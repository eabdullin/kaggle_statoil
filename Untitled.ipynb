{
 "cells": [
  {
   "cell_type": "code",
   "execution_count": 18,
   "metadata": {
    "collapsed": true
   },
   "outputs": [],
   "source": [
    "from __future__ import print_function\n",
    "import keras\n",
    "from keras.datasets import mnist\n",
    "from keras.models import Sequential,Model\n",
    "from keras.layers import Input, Dense, Dropout, Flatten,merge\n",
    "from keras.layers import Conv2D, MaxPooling2D, AveragePooling2D,GlobalMaxPooling2D,GlobalAveragePooling2D\n",
    "from keras.layers.merge import Concatenate, concatenate\n",
    "from keras import backend as K\n",
    "from keras.layers.normalization import BatchNormalization\n",
    "import numpy as np\n",
    "import json\n",
    "import sklearn.model_selection as selection\n",
    "from sklearn.preprocessing import MinMaxScaler\n",
    "import augmentations as aug\n",
    "import keras.preprocessing.image as prep\n",
    "import cv2\n",
    "import shutil\n",
    "import pandas as pd\n",
    "from keras.optimizers import Adam\n",
    "import os"
   ]
  },
  {
   "cell_type": "code",
   "execution_count": 25,
   "metadata": {
    "collapsed": true
   },
   "outputs": [],
   "source": [
    "img_rows, img_cols = 75, 75\n",
    "input_shape = (img_rows, img_cols, 1)\n",
    "batch_size = 32\n",
    "epochs = 8"
   ]
  },
  {
   "cell_type": "code",
   "execution_count": 3,
   "metadata": {
    "collapsed": true
   },
   "outputs": [],
   "source": [
    "def float_or_na(value):\n",
    "    return float(value if value != 'na' else 0)"
   ]
  },
  {
   "cell_type": "code",
   "execution_count": 4,
   "metadata": {
    "collapsed": true
   },
   "outputs": [],
   "source": [
    "def augment(item1,item2, aug_types=['rotate'], prob=0.3, count=2):\n",
    "    l = 0\n",
    "    do_rotate = 'rotate' in aug_types and np.random.random() < prob\n",
    "    l += count if do_rotate else 0\n",
    "    do_shift = 'shift' in aug_types and np.random.random() < prob\n",
    "    l += count if do_shift else 0\n",
    "    do_vflip = 'vflip' in aug_types and np.random.random() < prob\n",
    "    l += 1 if do_vflip else 0\n",
    "    do_hflip = 'hflip' in aug_types and np.random.random() < prob\n",
    "    l += 1 if do_hflip else 0\n",
    "\n",
    "    shape = (l,) + item1.shape\n",
    "    x1 = np.zeros(shape)\n",
    "    x2 = np.zeros(shape)\n",
    "    i = 0\n",
    "    if (do_rotate):\n",
    "        angle = np.random.randint(90)\n",
    "        for _ in range(count):\n",
    "            x1[i] = prep.random_rotation(item1, rg=angle,\n",
    "                                         row_axis=0, col_axis=1, channel_axis=2)\n",
    "            x2[i] = prep.random_rotation(item2, rg=45,\n",
    "                                         row_axis=0, col_axis=1, channel_axis=2)\n",
    "            i += 1\n",
    "\n",
    "    if (do_shift):\n",
    "        for _ in range(count):\n",
    "            width_rg = np.random.random() * 0.3\n",
    "            height_rg = np.random.random() * 0.3\n",
    "            x1[i] = prep.random_shift(item1, wrg=width_rg, hrg=height_rg,\n",
    "                                      row_axis=0, col_axis=1, channel_axis=2)\n",
    "            x2[i] = prep.random_shift(item2, wrg=width_rg, hrg=height_rg,\n",
    "                                      row_axis=0, col_axis=1, channel_axis=2)\n",
    "            i += 1\n",
    "    im_shape = item1.shape\n",
    "    if (do_vflip):\n",
    "        x1[i] = cv2.flip(item1, 0).reshape(im_shape)\n",
    "        x2[i] = cv2.flip(item2, 0).reshape(im_shape)\n",
    "        i += 1\n",
    "    if (do_hflip):\n",
    "        x1[i] = cv2.flip(item1, 1).reshape(im_shape)\n",
    "        x2[i] = cv2.flip(item2, 1).reshape(im_shape)\n",
    "        i += 1\n",
    "    return ( l, x1, x2)"
   ]
  },
  {
   "cell_type": "code",
   "execution_count": 5,
   "metadata": {
    "collapsed": true
   },
   "outputs": [],
   "source": [
    "def process_data(filename,inlcude_target=False,scalers = None):\n",
    "    with open(filename) as f:\n",
    "        data = json.load(f)\n",
    "    X_ids = []\n",
    "    X_band1 = np.zeros((len(data), img_rows*img_cols))\n",
    "    X_band2 = np.zeros((len(data), img_rows*img_cols))\n",
    "    X_angle = np.zeros((len(data),5))\n",
    "    y = None\n",
    "    if(inlcude_target):\n",
    "        y = np.zeros(len(data))\n",
    "    for i in range(len(data)):\n",
    "        el = data[i]\n",
    "        X_ids.append(el['id'])\n",
    "        X_band1[i] = np.array(el['band_1'])\n",
    "        X_band2[i] = np.array(el['band_2'])\n",
    "        angle = float_or_na(el['inc_angle'])\n",
    "        X_angle[i][0] = angle\n",
    "        X_angle[i][1] = np.sin(angle)\n",
    "        X_angle[i][2] = np.cos(angle)\n",
    "        X_angle[i][3] = np.sin(angle*angle)\n",
    "        X_angle[i][4] = np.cos(angle*angle)\n",
    "        if(inlcude_target):\n",
    "            y[i] = np.int(el['is_iceberg'])\n",
    "    if(scalers is None):\n",
    "        scalers = []\n",
    "        scalers.append(MinMaxScaler().fit(X_band1))\n",
    "        scalers.append(MinMaxScaler().fit(X_band2))\n",
    "    X_band1 = scalers[0].transform(X_band1)\n",
    "    X_band2 = scalers[1].transform(X_band2)\n",
    "    del data\n",
    "    X_band1 = X_band1.reshape(X_band1.shape[0], img_rows, img_cols, 1)\n",
    "    X_band2 = X_band2.reshape(X_band2.shape[0], img_rows, img_cols, 1)\n",
    "    return X_ids, X_band1, X_band2, X_angle, scalers, y"
   ]
  },
  {
   "cell_type": "code",
   "execution_count": 6,
   "metadata": {
    "collapsed": true
   },
   "outputs": [],
   "source": [
    "_, X_band1, X_band2, X_angle, scalers, y = process_data('train.json',inlcude_target = True)"
   ]
  },
  {
   "cell_type": "code",
   "execution_count": 7,
   "metadata": {},
   "outputs": [
    {
     "name": "stdout",
     "output_type": "stream",
     "text": [
      "(1604, 75, 75, 1)\n",
      "(1604, 75, 75, 1)\n",
      "(1604, 5)\n"
     ]
    }
   ],
   "source": [
    "print(X_band1.shape)\n",
    "print(X_band2.shape)\n",
    "print(X_angle.shape)"
   ]
  },
  {
   "cell_type": "code",
   "execution_count": 16,
   "metadata": {
    "collapsed": true
   },
   "outputs": [],
   "source": [
    "def conv_chain(input_tensor,conv_units, include_pooling = True, convcounts = 2):\n",
    "    tensor  = input_tensor\n",
    "    for i in range(convcounts):\n",
    "        tensor = Conv2D(conv_units,(3, 3), activation='relu')(tensor)\n",
    "    if(include_pooling):\n",
    "        tensor = AveragePooling2D()(tensor)\n",
    "        tensor = Dropout(0.2)(tensor)\n",
    "    return tensor"
   ]
  },
  {
   "cell_type": "code",
   "execution_count": 19,
   "metadata": {},
   "outputs": [
    {
     "name": "stdout",
     "output_type": "stream",
     "text": [
      "____________________________________________________________________________________________________\n",
      "Layer (type)                     Output Shape          Param #     Connected to                     \n",
      "====================================================================================================\n",
      "band_1 (InputLayer)              (None, 75, 75, 1)     0                                            \n",
      "____________________________________________________________________________________________________\n",
      "conv2d_46 (Conv2D)               (None, 73, 73, 16)    160         band_1[0][0]                     \n",
      "____________________________________________________________________________________________________\n",
      "conv2d_47 (Conv2D)               (None, 71, 71, 16)    2320        conv2d_46[0][0]                  \n",
      "____________________________________________________________________________________________________\n",
      "average_pooling2d_4 (AveragePool (None, 35, 35, 16)    0           conv2d_47[0][0]                  \n",
      "____________________________________________________________________________________________________\n",
      "dropout_27 (Dropout)             (None, 35, 35, 16)    0           average_pooling2d_4[0][0]        \n",
      "____________________________________________________________________________________________________\n",
      "band_2 (InputLayer)              (None, 75, 75, 1)     0                                            \n",
      "____________________________________________________________________________________________________\n",
      "conv2d_48 (Conv2D)               (None, 33, 33, 32)    4640        dropout_27[0][0]                 \n",
      "____________________________________________________________________________________________________\n",
      "conv2d_53 (Conv2D)               (None, 73, 73, 16)    160         band_2[0][0]                     \n",
      "____________________________________________________________________________________________________\n",
      "conv2d_49 (Conv2D)               (None, 31, 31, 32)    9248        conv2d_48[0][0]                  \n",
      "____________________________________________________________________________________________________\n",
      "conv2d_54 (Conv2D)               (None, 71, 71, 16)    2320        conv2d_53[0][0]                  \n",
      "____________________________________________________________________________________________________\n",
      "average_pooling2d_5 (AveragePool (None, 15, 15, 32)    0           conv2d_49[0][0]                  \n",
      "____________________________________________________________________________________________________\n",
      "average_pooling2d_6 (AveragePool (None, 35, 35, 16)    0           conv2d_54[0][0]                  \n",
      "____________________________________________________________________________________________________\n",
      "dropout_28 (Dropout)             (None, 15, 15, 32)    0           average_pooling2d_5[0][0]        \n",
      "____________________________________________________________________________________________________\n",
      "dropout_30 (Dropout)             (None, 35, 35, 16)    0           average_pooling2d_6[0][0]        \n",
      "____________________________________________________________________________________________________\n",
      "conv2d_50 (Conv2D)               (None, 13, 13, 64)    18496       dropout_28[0][0]                 \n",
      "____________________________________________________________________________________________________\n",
      "conv2d_55 (Conv2D)               (None, 33, 33, 32)    4640        dropout_30[0][0]                 \n",
      "____________________________________________________________________________________________________\n",
      "conv2d_51 (Conv2D)               (None, 11, 11, 64)    36928       conv2d_50[0][0]                  \n",
      "____________________________________________________________________________________________________\n",
      "conv2d_56 (Conv2D)               (None, 31, 31, 32)    9248        conv2d_55[0][0]                  \n",
      "____________________________________________________________________________________________________\n",
      "conv2d_52 (Conv2D)               (None, 9, 9, 64)      36928       conv2d_51[0][0]                  \n",
      "____________________________________________________________________________________________________\n",
      "conv2d_57 (Conv2D)               (None, 29, 29, 32)    9248        conv2d_56[0][0]                  \n",
      "____________________________________________________________________________________________________\n",
      "global_average_pooling2d_1 (Glob (None, 64)            0           conv2d_52[0][0]                  \n",
      "____________________________________________________________________________________________________\n",
      "global_average_pooling2d_2 (Glob (None, 32)            0           conv2d_57[0][0]                  \n",
      "____________________________________________________________________________________________________\n",
      "dropout_29 (Dropout)             (None, 64)            0           global_average_pooling2d_1[0][0] \n",
      "____________________________________________________________________________________________________\n",
      "dropout_31 (Dropout)             (None, 32)            0           global_average_pooling2d_2[0][0] \n",
      "____________________________________________________________________________________________________\n",
      "batch_normalization_10 (BatchNor (None, 64)            256         dropout_29[0][0]                 \n",
      "____________________________________________________________________________________________________\n",
      "batch_normalization_11 (BatchNor (None, 32)            128         dropout_31[0][0]                 \n",
      "____________________________________________________________________________________________________\n",
      "angle (InputLayer)               (None, 5)             0                                            \n",
      "____________________________________________________________________________________________________\n",
      "concatenate_4 (Concatenate)      (None, 101)           0           batch_normalization_10[0][0]     \n",
      "                                                                   batch_normalization_11[0][0]     \n",
      "                                                                   angle[0][0]                      \n",
      "____________________________________________________________________________________________________\n",
      "batch_normalization_12 (BatchNor (None, 101)           404         concatenate_4[0][0]              \n",
      "____________________________________________________________________________________________________\n",
      "dense_7 (Dense)                  (None, 256)           26112       batch_normalization_12[0][0]     \n",
      "____________________________________________________________________________________________________\n",
      "dropout_32 (Dropout)             (None, 256)           0           dense_7[0][0]                    \n",
      "____________________________________________________________________________________________________\n",
      "dense_8 (Dense)                  (None, 1)             257         dropout_32[0][0]                 \n",
      "====================================================================================================\n",
      "Total params: 161,493\n",
      "Trainable params: 161,099\n",
      "Non-trainable params: 394\n",
      "____________________________________________________________________________________________________\n"
     ]
    }
   ],
   "source": [
    "#model params\n",
    "bn_model = 0\n",
    "\n",
    "band1_input = Input(shape=input_shape, name='band_1')\n",
    "band1 = conv_chain(band1_input,16)\n",
    "band1 = conv_chain(band1,32)\n",
    "band1 = conv_chain(band1,64,convcounts=3)\n",
    "band1 = GlobalAveragePooling2D()(band1)\n",
    "band1 = Dropout(0.2)(band1)\n",
    "band1 = BatchNormalization(momentum=bn_model)(band1)\n",
    "\n",
    "\n",
    "band2_input = Input(shape=input_shape, name='band_2')\n",
    "# band2 = conv_chain(band2_input,32)\n",
    "# band2 = conv_chain(band2,32)\n",
    "band2 = conv_chain(band2,64,convcounts=3)\n",
    "band2 = GlobalAveragePooling2D()(band2)\n",
    "band2 = Dropout(0.2)(band2)\n",
    "band2 = BatchNormalization(momentum=bn_model)(band2)\n",
    "\n",
    "angle_input = Input(shape=(X_angle.shape[1], ), name='angle')\n",
    "classification = concatenate([band1, band2,angle_input])\n",
    "\n",
    "classification = BatchNormalization(momentum=bn_model)(classification)\n",
    "classification = Dense(256, activation = 'relu')(classification)\n",
    "classification =  Dropout(0.2)(classification)\n",
    "classification =  Dense(1, activation = 'sigmoid')(classification)\n",
    "\n",
    "model = Model([band1_input, band2_input,angle_input], classification)\n",
    "optimizer = Adam(lr=0.001, beta_1=0.9, beta_2=0.999, epsilon=1e-08, decay=0.01)\n",
    "model.compile(loss='binary_crossentropy',\n",
    "              optimizer=optimizer,\n",
    "              metrics=['accuracy'])\n",
    "# shutil.rmtree('/Graph')\n",
    "model.summary()"
   ]
  },
  {
   "cell_type": "code",
   "execution_count": null,
   "metadata": {
    "collapsed": true
   },
   "outputs": [],
   "source": [
    "def get_callbacks(filepath, patience=2):\n",
    "    es = EarlyStopping('val_loss', patience=patience, mode=\"min\")\n",
    "    msave = ModelCheckpoint(filepath, save_best_only=True)\n",
    "    tb = keras.callbacks.TensorBoard(log_dir='Graph', histogram_freq=0, write_graph=True, write_images=True)\n",
    "    if(os.path.isdir(\"Graph\")):\n",
    "        shutil.rmtree('Graph')\n",
    "    return [es, tb, msave]"
   ]
  },
  {
   "cell_type": "code",
   "execution_count": null,
   "metadata": {
    "collapsed": true
   },
   "outputs": [],
   "source": [
    "file_path = \".model_weights.hdf5\"\n",
    "callbacks = get_callbacks(filepath=file_path, patience=5)"
   ]
  },
  {
   "cell_type": "code",
   "execution_count": 20,
   "metadata": {},
   "outputs": [
    {
     "name": "stdout",
     "output_type": "stream",
     "text": [
      "Train on 1283 samples, validate on 321 samples\n",
      "Epoch 1/16\n",
      "1283/1283 [==============================] - 40s - loss: 0.6885 - acc: 0.5542 - val_loss: 0.9439 - val_acc: 0.7134\n",
      "Epoch 2/16\n",
      "1283/1283 [==============================] - 41s - loss: 0.6456 - acc: 0.6376 - val_loss: 0.6885 - val_acc: 0.6480\n",
      "Epoch 3/16\n",
      "1283/1283 [==============================] - 39s - loss: 0.6167 - acc: 0.6610 - val_loss: 0.4708 - val_acc: 0.7539\n",
      "Epoch 4/16\n",
      "1283/1283 [==============================] - 39s - loss: 0.5759 - acc: 0.6999 - val_loss: 0.5852 - val_acc: 0.7632\n",
      "Epoch 5/16\n",
      "1283/1283 [==============================] - 39s - loss: 0.5784 - acc: 0.6898 - val_loss: 0.4755 - val_acc: 0.7103\n",
      "Epoch 6/16\n",
      "1283/1283 [==============================] - 40s - loss: 0.5649 - acc: 0.6991 - val_loss: 2.5888 - val_acc: 0.6324\n",
      "Epoch 7/16\n",
      "1283/1283 [==============================] - 41s - loss: 0.5367 - acc: 0.7186 - val_loss: 2.4020 - val_acc: 0.7009\n",
      "Epoch 8/16\n",
      "1283/1283 [==============================] - 44s - loss: 0.5015 - acc: 0.7529 - val_loss: 0.3930 - val_acc: 0.8006\n",
      "Epoch 9/16\n",
      "1283/1283 [==============================] - 42s - loss: 0.4832 - acc: 0.7545 - val_loss: 1.0473 - val_acc: 0.7882\n",
      "Epoch 10/16\n",
      "1283/1283 [==============================] - 40s - loss: 0.4861 - acc: 0.7693 - val_loss: 0.6593 - val_acc: 0.7539\n",
      "Epoch 11/16\n",
      "1283/1283 [==============================] - 40s - loss: 0.4579 - acc: 0.7685 - val_loss: 1.2259 - val_acc: 0.7601\n",
      "Epoch 12/16\n",
      "1283/1283 [==============================] - 42s - loss: 0.4452 - acc: 0.7708 - val_loss: 2.4471 - val_acc: 0.6978\n",
      "Epoch 13/16\n",
      "1283/1283 [==============================] - 44s - loss: 0.4253 - acc: 0.7888 - val_loss: 0.4160 - val_acc: 0.8349\n",
      "Epoch 14/16\n",
      "1283/1283 [==============================] - 43s - loss: 0.4409 - acc: 0.7896 - val_loss: 0.8174 - val_acc: 0.6168\n",
      "Epoch 15/16\n",
      "1283/1283 [==============================] - 41s - loss: 0.3967 - acc: 0.8176 - val_loss: 0.5794 - val_acc: 0.8131\n",
      "Epoch 16/16\n",
      "1283/1283 [==============================] - 41s - loss: 0.3927 - acc: 0.8106 - val_loss: 1.1779 - val_acc: 0.6791\n"
     ]
    },
    {
     "data": {
      "text/plain": [
       "<keras.callbacks.History at 0x229bf7b61d0>"
      ]
     },
     "execution_count": 20,
     "metadata": {},
     "output_type": "execute_result"
    }
   ],
   "source": [
    "model.fit([X_band1,X_band2,X_angle], y,\n",
    "          batch_size=batch_size,\n",
    "          epochs=epochs, \n",
    "          validation_split=0.2,          \n",
    "          callbacks=callbacks,\n",
    "          verbose=1)"
   ]
  },
  {
   "cell_type": "code",
   "execution_count": 21,
   "metadata": {
    "collapsed": true
   },
   "outputs": [],
   "source": [
    "test_ids, X_test1, X_test2, X_angle_test, _, _ = process_data('test.json',scalers=scalers)"
   ]
  },
  {
   "cell_type": "code",
   "execution_count": 23,
   "metadata": {},
   "outputs": [
    {
     "name": "stdout",
     "output_type": "stream",
     "text": [
      "8424/8424 [==============================] - 95s    \n"
     ]
    }
   ],
   "source": [
    "prediction = model.predict([X_test1,X_test2,X_angle_test], verbose=1)"
   ]
  },
  {
   "cell_type": "code",
   "execution_count": 24,
   "metadata": {
    "collapsed": true
   },
   "outputs": [],
   "source": [
    "submit_df = pd.DataFrame({'id': test_ids, 'is_iceberg': prediction.flatten()})\n",
    "submit_df.to_csv(\"keras_submission.csv\", index=False)"
   ]
  }
 ],
 "metadata": {
  "kernelspec": {
   "display_name": "Python 3",
   "language": "python",
   "name": "python3"
  },
  "language_info": {
   "codemirror_mode": {
    "name": "ipython",
    "version": 3
   },
   "file_extension": ".py",
   "mimetype": "text/x-python",
   "name": "python",
   "nbconvert_exporter": "python",
   "pygments_lexer": "ipython3",
   "version": "3.6.2"
  }
 },
 "nbformat": 4,
 "nbformat_minor": 2
}
