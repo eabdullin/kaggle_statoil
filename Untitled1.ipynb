{
 "cells": [
  {
   "cell_type": "code",
   "execution_count": 3,
   "metadata": {},
   "outputs": [],
   "source": [
    "from keras.models import Sequential\n",
    "from keras.layers import Convolution2D, GlobalAveragePooling2D, Dense, Dropout,MaxPooling2D,Flatten\n",
    "import numpy as np # linear algebra\n",
    "import pandas as pd # data processing, CSV file I/O (e.g. pd.read_csv)"
   ]
  },
  {
   "cell_type": "code",
   "execution_count": 4,
   "metadata": {},
   "outputs": [],
   "source": [
    "train_df = pd.read_json(\"train2.json\")"
   ]
  },
  {
   "cell_type": "code",
   "execution_count": 6,
   "metadata": {},
   "outputs": [
    {
     "name": "stdout",
     "output_type": "stream",
     "text": [
      "Xtrain: (1604, 75, 75, 2)\n"
     ]
    }
   ],
   "source": [
    "# Train data\n",
    "x_band1 = np.array([np.array(band).astype(np.float32).reshape(75, 75) for band in train_df[\"band_1\"]])\n",
    "x_band2 = np.array([np.array(band).astype(np.float32).reshape(75, 75) for band in train_df[\"band_2\"]])\n",
    "X_train = np.concatenate([x_band1[:, :, :, np.newaxis], x_band2[:, :, :, np.newaxis]], axis=-1)\n",
    "y_train = np.array(train_df[\"is_iceberg\"])\n",
    "print(\"Xtrain:\", X_train.shape)"
   ]
  },
  {
   "cell_type": "code",
   "execution_count": 11,
   "metadata": {},
   "outputs": [
    {
     "name": "stdout",
     "output_type": "stream",
     "text": [
      "_________________________________________________________________\n",
      "Layer (type)                 Output Shape              Param #   \n",
      "=================================================================\n",
      "conv2d_19 (Conv2D)           (None, 73, 73, 32)        608       \n",
      "_________________________________________________________________\n",
      "conv2d_20 (Conv2D)           (None, 71, 71, 32)        9248      \n",
      "_________________________________________________________________\n",
      "max_pooling2d_9 (MaxPooling2 (None, 35, 35, 32)        0         \n",
      "_________________________________________________________________\n",
      "dropout_9 (Dropout)          (None, 35, 35, 32)        0         \n",
      "_________________________________________________________________\n",
      "conv2d_21 (Conv2D)           (None, 33, 33, 64)        18496     \n",
      "_________________________________________________________________\n",
      "conv2d_22 (Conv2D)           (None, 31, 31, 64)        36928     \n",
      "_________________________________________________________________\n",
      "max_pooling2d_10 (MaxPooling (None, 15, 15, 64)        0         \n",
      "_________________________________________________________________\n",
      "dropout_10 (Dropout)         (None, 15, 15, 64)        0         \n",
      "_________________________________________________________________\n",
      "flatten_4 (Flatten)          (None, 14400)             0         \n",
      "_________________________________________________________________\n",
      "dense_7 (Dense)              (None, 512)               7373312   \n",
      "_________________________________________________________________\n",
      "dense_8 (Dense)              (None, 1)                 513       \n",
      "=================================================================\n",
      "Total params: 7,439,105\n",
      "Trainable params: 7,439,105\n",
      "Non-trainable params: 0\n",
      "_________________________________________________________________\n"
     ]
    }
   ],
   "source": [
    "model = Sequential()\n",
    "model.add(Convolution2D(32, 3, activation=\"relu\", input_shape=(75, 75, 2)))\n",
    "model.add(Convolution2D(32, 3, activation=\"relu\"))\n",
    "model.add(MaxPooling2D())\n",
    "model.add(Dropout(0.25))\n",
    "model.add(Convolution2D(64, 3, activation=\"relu\", input_shape=(75, 75, 2)))\n",
    "model.add(Convolution2D(64, 3, activation=\"relu\"))\n",
    "model.add(MaxPooling2D())\n",
    "# model.add(Dropout(0.25))\n",
    "# model.add(Convolution2D(128, 3, activation=\"relu\", input_shape=(75, 75, 2)))\n",
    "# model.add(Convolution2D(128, 3, activation=\"relu\"))\n",
    "# model.add(MaxPooling2D())\n",
    "model.add(Dropout(0.3))\n",
    "model.add(Flatten())\n",
    "model.add(Dense(512, activation=\"relu\"))\n",
    "model.add(Dense(1, activation=\"sigmoid\"))\n",
    "model.compile(\"adam\", \"binary_crossentropy\", metrics=[\"accuracy\"])\n",
    "model.summary()"
   ]
  },
  {
   "cell_type": "code",
   "execution_count": 12,
   "metadata": {},
   "outputs": [
    {
     "name": "stdout",
     "output_type": "stream",
     "text": [
      "Train on 1283 samples, validate on 321 samples\n",
      "Epoch 1/10\n",
      "1283/1283 [==============================] - 53s - loss: 7.9675 - acc: 0.4934 - val_loss: 5.5233 - val_acc: 0.6573\n",
      "Epoch 2/10\n",
      "1283/1283 [==============================] - 57s - loss: 8.0779 - acc: 0.4988 - val_loss: 5.5233 - val_acc: 0.6573\n",
      "Epoch 3/10\n",
      "1283/1283 [==============================] - 55s - loss: 8.0779 - acc: 0.4988 - val_loss: 5.5233 - val_acc: 0.6573\n",
      "Epoch 4/10\n",
      "1283/1283 [==============================] - 52s - loss: 8.0779 - acc: 0.4988 - val_loss: 5.5233 - val_acc: 0.6573\n",
      "Epoch 5/10\n",
      "1283/1283 [==============================] - 50s - loss: 8.0779 - acc: 0.4988 - val_loss: 5.5233 - val_acc: 0.6573\n",
      "Epoch 6/10\n",
      "1283/1283 [==============================] - 52s - loss: 8.0779 - acc: 0.4988 - val_loss: 5.5233 - val_acc: 0.6573\n",
      "Epoch 7/10\n",
      "1283/1283 [==============================] - 51s - loss: 8.0779 - acc: 0.4988 - val_loss: 5.5233 - val_acc: 0.6573\n",
      "Epoch 8/10\n",
      "1283/1283 [==============================] - 51s - loss: 8.0779 - acc: 0.4988 - val_loss: 5.5233 - val_acc: 0.6573\n",
      "Epoch 9/10\n",
      "1283/1283 [==============================] - 54s - loss: 8.0779 - acc: 0.4988 - val_loss: 5.5233 - val_acc: 0.6573\n",
      "Epoch 10/10\n",
      "1283/1283 [==============================] - 55s - loss: 8.0779 - acc: 0.4988 - val_loss: 5.5233 - val_acc: 0.6573\n"
     ]
    },
    {
     "data": {
      "text/plain": [
       "<keras.callbacks.History at 0x2c49b352d30>"
      ]
     },
     "execution_count": 12,
     "metadata": {},
     "output_type": "execute_result"
    }
   ],
   "source": [
    "model.fit(X_train, y_train, validation_split=0.2)"
   ]
  }
 ],
 "metadata": {
  "kernelspec": {
   "display_name": "Python 3",
   "language": "python",
   "name": "python3"
  },
  "language_info": {
   "codemirror_mode": {
    "name": "ipython",
    "version": 3
   },
   "file_extension": ".py",
   "mimetype": "text/x-python",
   "name": "python",
   "nbconvert_exporter": "python",
   "pygments_lexer": "ipython3",
   "version": "3.6.3"
  }
 },
 "nbformat": 4,
 "nbformat_minor": 2
}
